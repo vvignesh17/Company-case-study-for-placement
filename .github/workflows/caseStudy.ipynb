{
  "nbformat": 4,
  "nbformat_minor": 0,
  "metadata": {
    "colab": {
      "name": "caseStudy.ipynb",
      "provenance": []
    },
    "kernelspec": {
      "name": "python3",
      "display_name": "Python 3"
    }
  },
  "cells": [
    {
      "cell_type": "code",
      "metadata": {
        "id": "b3_fhGLZPZyp",
        "colab_type": "code",
        "colab": {}
      },
      "source": [
        "import pandas as pd\n",
        "import numpy as np\n",
        "import seaborn as sns\n",
        "import matplotlib.pyplot as plt\n",
        "from sklearn.preprocessing import StandardScaler\n",
        "from sklearn.model_selection import cross_val_score, GridSearchCV\n",
        "from sklearn.linear_model import LogisticRegression\n",
        "from sklearn.tree import DecisionTreeClassifier\n",
        "from sklearn.ensemble import RandomForestClassifier"
      ],
      "execution_count": 0,
      "outputs": []
    },
    {
      "cell_type": "code",
      "metadata": {
        "id": "ci8NkArCTcSX",
        "colab_type": "code",
        "outputId": "c8803bd4-8c89-4dbe-e11e-cca0cfa8883a",
        "colab": {
          "base_uri": "https://localhost:8080/",
          "height": 241
        }
      },
      "source": [
        "df1=pd.read_csv(\"left employee.csv\")\n",
        "df1.head()"
      ],
      "execution_count": 0,
      "outputs": [
        {
          "output_type": "execute_result",
          "data": {
            "text/html": [
              "<div>\n",
              "<style scoped>\n",
              "    .dataframe tbody tr th:only-of-type {\n",
              "        vertical-align: middle;\n",
              "    }\n",
              "\n",
              "    .dataframe tbody tr th {\n",
              "        vertical-align: top;\n",
              "    }\n",
              "\n",
              "    .dataframe thead th {\n",
              "        text-align: right;\n",
              "    }\n",
              "</style>\n",
              "<table border=\"1\" class=\"dataframe\">\n",
              "  <thead>\n",
              "    <tr style=\"text-align: right;\">\n",
              "      <th></th>\n",
              "      <th>Emp ID</th>\n",
              "      <th>satisfaction_level</th>\n",
              "      <th>last_evaluation</th>\n",
              "      <th>number_project</th>\n",
              "      <th>average_montly_hours</th>\n",
              "      <th>time_spend_company</th>\n",
              "      <th>Work_accident</th>\n",
              "      <th>promotion_last_5years</th>\n",
              "      <th>dept</th>\n",
              "      <th>salary</th>\n",
              "      <th>Existing or Left</th>\n",
              "    </tr>\n",
              "  </thead>\n",
              "  <tbody>\n",
              "    <tr>\n",
              "      <th>0</th>\n",
              "      <td>1</td>\n",
              "      <td>0.1</td>\n",
              "      <td>0.89</td>\n",
              "      <td>2</td>\n",
              "      <td>157</td>\n",
              "      <td>3</td>\n",
              "      <td>0</td>\n",
              "      <td>0</td>\n",
              "      <td>sales</td>\n",
              "      <td>low</td>\n",
              "      <td>0</td>\n",
              "    </tr>\n",
              "    <tr>\n",
              "      <th>1</th>\n",
              "      <td>2</td>\n",
              "      <td>0.1</td>\n",
              "      <td>0.89</td>\n",
              "      <td>5</td>\n",
              "      <td>262</td>\n",
              "      <td>6</td>\n",
              "      <td>0</td>\n",
              "      <td>0</td>\n",
              "      <td>sales</td>\n",
              "      <td>low</td>\n",
              "      <td>0</td>\n",
              "    </tr>\n",
              "    <tr>\n",
              "      <th>2</th>\n",
              "      <td>3</td>\n",
              "      <td>0.1</td>\n",
              "      <td>0.89</td>\n",
              "      <td>7</td>\n",
              "      <td>272</td>\n",
              "      <td>4</td>\n",
              "      <td>0</td>\n",
              "      <td>0</td>\n",
              "      <td>sales</td>\n",
              "      <td>low</td>\n",
              "      <td>0</td>\n",
              "    </tr>\n",
              "    <tr>\n",
              "      <th>3</th>\n",
              "      <td>4</td>\n",
              "      <td>0.1</td>\n",
              "      <td>0.89</td>\n",
              "      <td>5</td>\n",
              "      <td>223</td>\n",
              "      <td>5</td>\n",
              "      <td>0</td>\n",
              "      <td>0</td>\n",
              "      <td>sales</td>\n",
              "      <td>low</td>\n",
              "      <td>0</td>\n",
              "    </tr>\n",
              "    <tr>\n",
              "      <th>4</th>\n",
              "      <td>5</td>\n",
              "      <td>0.1</td>\n",
              "      <td>0.89</td>\n",
              "      <td>2</td>\n",
              "      <td>159</td>\n",
              "      <td>3</td>\n",
              "      <td>0</td>\n",
              "      <td>0</td>\n",
              "      <td>sales</td>\n",
              "      <td>low</td>\n",
              "      <td>0</td>\n",
              "    </tr>\n",
              "  </tbody>\n",
              "</table>\n",
              "</div>"
            ],
            "text/plain": [
              "   Emp ID  satisfaction_level  last_evaluation  ...   dept  salary  Existing or Left\n",
              "0       1                 0.1             0.89  ...  sales     low                 0\n",
              "1       2                 0.1             0.89  ...  sales     low                 0\n",
              "2       3                 0.1             0.89  ...  sales     low                 0\n",
              "3       4                 0.1             0.89  ...  sales     low                 0\n",
              "4       5                 0.1             0.89  ...  sales     low                 0\n",
              "\n",
              "[5 rows x 11 columns]"
            ]
          },
          "metadata": {
            "tags": []
          },
          "execution_count": 250
        }
      ]
    },
    {
      "cell_type": "code",
      "metadata": {
        "id": "rHoLSV0BVu78",
        "colab_type": "code",
        "outputId": "28e24309-ff6d-4459-95fa-e231048969a6",
        "colab": {
          "base_uri": "https://localhost:8080/",
          "height": 297
        }
      },
      "source": [
        "df1[['satisfaction_level','last_evaluation','number_project','average_montly_hours','time_spend_company','Work_accident','promotion_last_5years']].describe()"
      ],
      "execution_count": 0,
      "outputs": [
        {
          "output_type": "execute_result",
          "data": {
            "text/html": [
              "<div>\n",
              "<style scoped>\n",
              "    .dataframe tbody tr th:only-of-type {\n",
              "        vertical-align: middle;\n",
              "    }\n",
              "\n",
              "    .dataframe tbody tr th {\n",
              "        vertical-align: top;\n",
              "    }\n",
              "\n",
              "    .dataframe thead th {\n",
              "        text-align: right;\n",
              "    }\n",
              "</style>\n",
              "<table border=\"1\" class=\"dataframe\">\n",
              "  <thead>\n",
              "    <tr style=\"text-align: right;\">\n",
              "      <th></th>\n",
              "      <th>satisfaction_level</th>\n",
              "      <th>last_evaluation</th>\n",
              "      <th>number_project</th>\n",
              "      <th>average_montly_hours</th>\n",
              "      <th>time_spend_company</th>\n",
              "      <th>Work_accident</th>\n",
              "      <th>promotion_last_5years</th>\n",
              "    </tr>\n",
              "  </thead>\n",
              "  <tbody>\n",
              "    <tr>\n",
              "      <th>count</th>\n",
              "      <td>3571.000000</td>\n",
              "      <td>3571.000000</td>\n",
              "      <td>3571.000000</td>\n",
              "      <td>3571.000000</td>\n",
              "      <td>3571.000000</td>\n",
              "      <td>3571.000000</td>\n",
              "      <td>3571.000000</td>\n",
              "    </tr>\n",
              "    <tr>\n",
              "      <th>mean</th>\n",
              "      <td>0.422708</td>\n",
              "      <td>0.728549</td>\n",
              "      <td>3.855503</td>\n",
              "      <td>207.419210</td>\n",
              "      <td>3.876505</td>\n",
              "      <td>0.047326</td>\n",
              "      <td>0.005321</td>\n",
              "    </tr>\n",
              "    <tr>\n",
              "      <th>std</th>\n",
              "      <td>0.268238</td>\n",
              "      <td>0.196215</td>\n",
              "      <td>1.818165</td>\n",
              "      <td>61.202825</td>\n",
              "      <td>0.977698</td>\n",
              "      <td>0.212364</td>\n",
              "      <td>0.072759</td>\n",
              "    </tr>\n",
              "    <tr>\n",
              "      <th>min</th>\n",
              "      <td>0.090000</td>\n",
              "      <td>0.450000</td>\n",
              "      <td>2.000000</td>\n",
              "      <td>126.000000</td>\n",
              "      <td>2.000000</td>\n",
              "      <td>0.000000</td>\n",
              "      <td>0.000000</td>\n",
              "    </tr>\n",
              "    <tr>\n",
              "      <th>25%</th>\n",
              "      <td>0.110000</td>\n",
              "      <td>0.520000</td>\n",
              "      <td>2.000000</td>\n",
              "      <td>146.000000</td>\n",
              "      <td>3.000000</td>\n",
              "      <td>0.000000</td>\n",
              "      <td>0.000000</td>\n",
              "    </tr>\n",
              "    <tr>\n",
              "      <th>50%</th>\n",
              "      <td>0.400000</td>\n",
              "      <td>0.810000</td>\n",
              "      <td>4.000000</td>\n",
              "      <td>224.000000</td>\n",
              "      <td>4.000000</td>\n",
              "      <td>0.000000</td>\n",
              "      <td>0.000000</td>\n",
              "    </tr>\n",
              "    <tr>\n",
              "      <th>75%</th>\n",
              "      <td>0.700000</td>\n",
              "      <td>0.900000</td>\n",
              "      <td>6.000000</td>\n",
              "      <td>262.000000</td>\n",
              "      <td>5.000000</td>\n",
              "      <td>0.000000</td>\n",
              "      <td>0.000000</td>\n",
              "    </tr>\n",
              "    <tr>\n",
              "      <th>max</th>\n",
              "      <td>0.920000</td>\n",
              "      <td>1.000000</td>\n",
              "      <td>7.000000</td>\n",
              "      <td>310.000000</td>\n",
              "      <td>6.000000</td>\n",
              "      <td>1.000000</td>\n",
              "      <td>1.000000</td>\n",
              "    </tr>\n",
              "  </tbody>\n",
              "</table>\n",
              "</div>"
            ],
            "text/plain": [
              "       satisfaction_level  ...  promotion_last_5years\n",
              "count         3571.000000  ...            3571.000000\n",
              "mean             0.422708  ...               0.005321\n",
              "std              0.268238  ...               0.072759\n",
              "min              0.090000  ...               0.000000\n",
              "25%              0.110000  ...               0.000000\n",
              "50%              0.400000  ...               0.000000\n",
              "75%              0.700000  ...               0.000000\n",
              "max              0.920000  ...               1.000000\n",
              "\n",
              "[8 rows x 7 columns]"
            ]
          },
          "metadata": {
            "tags": []
          },
          "execution_count": 251
        }
      ]
    },
    {
      "cell_type": "code",
      "metadata": {
        "id": "8m-Y7MpoBaLv",
        "colab_type": "code",
        "colab": {}
      },
      "source": [
        ""
      ],
      "execution_count": 0,
      "outputs": []
    },
    {
      "cell_type": "code",
      "metadata": {
        "id": "KjA_w8VnV1dU",
        "colab_type": "code",
        "outputId": "dbaf18ae-5868-4330-a4f1-156fea7e7ebb",
        "colab": {
          "base_uri": "https://localhost:8080/",
          "height": 396
        }
      },
      "source": [
        "df=pd.read_csv(\"Existing EmployeesX.csv\")\n",
        "df.head(n=10)"
      ],
      "execution_count": 0,
      "outputs": [
        {
          "output_type": "execute_result",
          "data": {
            "text/html": [
              "<div>\n",
              "<style scoped>\n",
              "    .dataframe tbody tr th:only-of-type {\n",
              "        vertical-align: middle;\n",
              "    }\n",
              "\n",
              "    .dataframe tbody tr th {\n",
              "        vertical-align: top;\n",
              "    }\n",
              "\n",
              "    .dataframe thead th {\n",
              "        text-align: right;\n",
              "    }\n",
              "</style>\n",
              "<table border=\"1\" class=\"dataframe\">\n",
              "  <thead>\n",
              "    <tr style=\"text-align: right;\">\n",
              "      <th></th>\n",
              "      <th>Emp ID</th>\n",
              "      <th>satisfaction_level</th>\n",
              "      <th>last_evaluation</th>\n",
              "      <th>number_project</th>\n",
              "      <th>average_montly_hours</th>\n",
              "      <th>time_spend_company</th>\n",
              "      <th>Work_accident</th>\n",
              "      <th>promotion_last_5years</th>\n",
              "      <th>dept</th>\n",
              "      <th>salary</th>\n",
              "      <th>Existing or Left</th>\n",
              "    </tr>\n",
              "  </thead>\n",
              "  <tbody>\n",
              "    <tr>\n",
              "      <th>0</th>\n",
              "      <td>1</td>\n",
              "      <td>0.1</td>\n",
              "      <td>0.89</td>\n",
              "      <td>2</td>\n",
              "      <td>157</td>\n",
              "      <td>3</td>\n",
              "      <td>0</td>\n",
              "      <td>0</td>\n",
              "      <td>sales</td>\n",
              "      <td>low</td>\n",
              "      <td>0</td>\n",
              "    </tr>\n",
              "    <tr>\n",
              "      <th>1</th>\n",
              "      <td>2</td>\n",
              "      <td>0.1</td>\n",
              "      <td>0.89</td>\n",
              "      <td>5</td>\n",
              "      <td>262</td>\n",
              "      <td>6</td>\n",
              "      <td>0</td>\n",
              "      <td>0</td>\n",
              "      <td>sales</td>\n",
              "      <td>low</td>\n",
              "      <td>0</td>\n",
              "    </tr>\n",
              "    <tr>\n",
              "      <th>2</th>\n",
              "      <td>3</td>\n",
              "      <td>0.1</td>\n",
              "      <td>0.89</td>\n",
              "      <td>7</td>\n",
              "      <td>272</td>\n",
              "      <td>4</td>\n",
              "      <td>0</td>\n",
              "      <td>0</td>\n",
              "      <td>sales</td>\n",
              "      <td>low</td>\n",
              "      <td>0</td>\n",
              "    </tr>\n",
              "    <tr>\n",
              "      <th>3</th>\n",
              "      <td>4</td>\n",
              "      <td>0.1</td>\n",
              "      <td>0.89</td>\n",
              "      <td>5</td>\n",
              "      <td>223</td>\n",
              "      <td>5</td>\n",
              "      <td>0</td>\n",
              "      <td>0</td>\n",
              "      <td>sales</td>\n",
              "      <td>low</td>\n",
              "      <td>0</td>\n",
              "    </tr>\n",
              "    <tr>\n",
              "      <th>4</th>\n",
              "      <td>5</td>\n",
              "      <td>0.1</td>\n",
              "      <td>0.89</td>\n",
              "      <td>2</td>\n",
              "      <td>159</td>\n",
              "      <td>3</td>\n",
              "      <td>0</td>\n",
              "      <td>0</td>\n",
              "      <td>sales</td>\n",
              "      <td>low</td>\n",
              "      <td>0</td>\n",
              "    </tr>\n",
              "    <tr>\n",
              "      <th>5</th>\n",
              "      <td>6</td>\n",
              "      <td>0.1</td>\n",
              "      <td>0.89</td>\n",
              "      <td>2</td>\n",
              "      <td>153</td>\n",
              "      <td>3</td>\n",
              "      <td>0</td>\n",
              "      <td>0</td>\n",
              "      <td>sales</td>\n",
              "      <td>low</td>\n",
              "      <td>0</td>\n",
              "    </tr>\n",
              "    <tr>\n",
              "      <th>6</th>\n",
              "      <td>7</td>\n",
              "      <td>0.1</td>\n",
              "      <td>0.89</td>\n",
              "      <td>6</td>\n",
              "      <td>247</td>\n",
              "      <td>4</td>\n",
              "      <td>0</td>\n",
              "      <td>0</td>\n",
              "      <td>sales</td>\n",
              "      <td>low</td>\n",
              "      <td>0</td>\n",
              "    </tr>\n",
              "    <tr>\n",
              "      <th>7</th>\n",
              "      <td>8</td>\n",
              "      <td>0.1</td>\n",
              "      <td>0.89</td>\n",
              "      <td>5</td>\n",
              "      <td>259</td>\n",
              "      <td>5</td>\n",
              "      <td>0</td>\n",
              "      <td>0</td>\n",
              "      <td>sales</td>\n",
              "      <td>low</td>\n",
              "      <td>0</td>\n",
              "    </tr>\n",
              "    <tr>\n",
              "      <th>8</th>\n",
              "      <td>9</td>\n",
              "      <td>0.1</td>\n",
              "      <td>0.89</td>\n",
              "      <td>5</td>\n",
              "      <td>224</td>\n",
              "      <td>5</td>\n",
              "      <td>0</td>\n",
              "      <td>0</td>\n",
              "      <td>sales</td>\n",
              "      <td>low</td>\n",
              "      <td>0</td>\n",
              "    </tr>\n",
              "    <tr>\n",
              "      <th>9</th>\n",
              "      <td>10</td>\n",
              "      <td>0.1</td>\n",
              "      <td>0.89</td>\n",
              "      <td>2</td>\n",
              "      <td>142</td>\n",
              "      <td>3</td>\n",
              "      <td>0</td>\n",
              "      <td>0</td>\n",
              "      <td>sales</td>\n",
              "      <td>low</td>\n",
              "      <td>0</td>\n",
              "    </tr>\n",
              "  </tbody>\n",
              "</table>\n",
              "</div>"
            ],
            "text/plain": [
              "   Emp ID  satisfaction_level  last_evaluation  ...   dept  salary  Existing or Left\n",
              "0       1                 0.1             0.89  ...  sales     low                 0\n",
              "1       2                 0.1             0.89  ...  sales     low                 0\n",
              "2       3                 0.1             0.89  ...  sales     low                 0\n",
              "3       4                 0.1             0.89  ...  sales     low                 0\n",
              "4       5                 0.1             0.89  ...  sales     low                 0\n",
              "5       6                 0.1             0.89  ...  sales     low                 0\n",
              "6       7                 0.1             0.89  ...  sales     low                 0\n",
              "7       8                 0.1             0.89  ...  sales     low                 0\n",
              "8       9                 0.1             0.89  ...  sales     low                 0\n",
              "9      10                 0.1             0.89  ...  sales     low                 0\n",
              "\n",
              "[10 rows x 11 columns]"
            ]
          },
          "metadata": {
            "tags": []
          },
          "execution_count": 252
        }
      ]
    },
    {
      "cell_type": "code",
      "metadata": {
        "id": "YeXZzAGAwrSC",
        "colab_type": "code",
        "outputId": "cc91c083-994c-4147-acd4-1604002fb651",
        "colab": {
          "base_uri": "https://localhost:8080/",
          "height": 371
        }
      },
      "source": [
        "ax = sns.catplot(y='satisfaction_level',x='dept',hue='Existing or Left',kind='point',data=df)\n",
        "ax.fig.autofmt_xdate()"
      ],
      "execution_count": 0,
      "outputs": [
        {
          "output_type": "display_data",
          "data": {
            "image/png": "[encoded data removed]",
            "text/plain": [
              "<Figure size 443.25x360 with 1 Axes>"
            ]
          },
          "metadata": {
            "tags": []
          }
        }
      ]
    },
    {
      "cell_type": "code",
      "metadata": {
        "id": "1JbWTGCnxOT8",
        "colab_type": "code",
        "outputId": "517440a6-5ac1-4ada-d793-427b9c89f67c",
        "colab": {
          "base_uri": "https://localhost:8080/",
          "height": 371
        }
      },
      "source": [
        "ax = sns.catplot(y='last_evaluation',x='dept',hue='Existing or Left',kind='point',data=df)\n",
        "ax.fig.autofmt_xdate()"
      ],
      "execution_count": 0,
      "outputs": [
        {
          "output_type": "display_data",
          "data": {
            "image/png": "[encoded data removed]",
            "text/plain": [
              "<Figure size 443.25x360 with 1 Axes>"
            ]
          },
          "metadata": {
            "tags": []
          }
        }
      ]
    },
    {
      "cell_type": "code",
      "metadata": {
        "id": "NwU-JZr8xeZs",
        "colab_type": "code",
        "outputId": "d2e13b87-d583-4532-d2e3-309f5a8487f8",
        "colab": {
          "base_uri": "https://localhost:8080/",
          "height": 371
        }
      },
      "source": [
        "ax = sns.catplot(y='number_project',x='dept',hue='Existing or Left',kind='box',data=df)\n",
        "ax.fig.autofmt_xdate()\n",
        "# sns.catplot(x=\"day\", y=\"total_bill\", hue=\"sex\", kind=\"box\", data=tips);"
      ],
      "execution_count": 0,
      "outputs": [
        {
          "output_type": "display_data",
          "data": {
            "image/png": "[encoded data removed]",
            "text/plain": [
              "<Figure size 443.25x360 with 1 Axes>"
            ]
          },
          "metadata": {
            "tags": []
          }
        }
      ]
    },
    {
      "cell_type": "code",
      "metadata": {
        "id": "bL4AHpeDxr_S",
        "colab_type": "code",
        "outputId": "9e9ec75f-3001-4fae-ec01-ef388e1c9ddc",
        "colab": {
          "base_uri": "https://localhost:8080/",
          "height": 371
        }
      },
      "source": [
        "ax = sns.catplot(y='average_montly_hours',x='dept',hue='Existing or Left',kind='point',data=df)\n",
        "ax.fig.autofmt_xdate()"
      ],
      "execution_count": 0,
      "outputs": [
        {
          "output_type": "display_data",
          "data": {
            "image/png": "[encoded data removed]",
            "text/plain": [
              "<Figure size 443.25x360 with 1 Axes>"
            ]
          },
          "metadata": {
            "tags": []
          }
        }
      ]
    },
    {
      "cell_type": "code",
      "metadata": {
        "id": "gb4Tg2XwyAo_",
        "colab_type": "code",
        "outputId": "473fd373-df39-4bd8-8d77-79415c950ff3",
        "colab": {
          "base_uri": "https://localhost:8080/",
          "height": 371
        }
      },
      "source": [
        "ax = sns.catplot(y='time_spend_company',x='dept',hue='Existing or Left',kind='point',data=df)\n",
        "ax.fig.autofmt_xdate()"
      ],
      "execution_count": 0,
      "outputs": [
        {
          "output_type": "display_data",
          "data": {
            "image/png": "[encoded data removed]",
            "text/plain": [
              "<Figure size 443.25x360 with 1 Axes>"
            ]
          },
          "metadata": {
            "tags": []
          }
        }
      ]
    },
    {
      "cell_type": "code",
      "metadata": {
        "id": "rQShQwIOyQFk",
        "colab_type": "code",
        "outputId": "3f2182d4-261f-4a6f-8bca-4e57859b8873",
        "colab": {
          "base_uri": "https://localhost:8080/",
          "height": 371
        }
      },
      "source": [
        "ax = sns.catplot(y='Work_accident',x='dept',hue='Existing or Left',kind='point',data=df)\n",
        "ax.fig.autofmt_xdate()"
      ],
      "execution_count": 0,
      "outputs": [
        {
          "output_type": "display_data",
          "data": {
            "image/png": "[encoded data removed]",
            "text/plain": [
              "<Figure size 443.25x360 with 1 Axes>"
            ]
          },
          "metadata": {
            "tags": []
          }
        }
      ]
    },
    {
      "cell_type": "code",
      "metadata": {
        "id": "m5rmGmm0ydzE",
        "colab_type": "code",
        "outputId": "b20ee737-621f-4308-f9cc-82ae5e92079c",
        "colab": {
          "base_uri": "https://localhost:8080/",
          "height": 371
        }
      },
      "source": [
        "ax = sns.catplot(y='promotion_last_5years',x='dept',hue='Existing or Left',kind='point',data=df)\n",
        "ax.fig.autofmt_xdate()"
      ],
      "execution_count": 0,
      "outputs": [
        {
          "output_type": "display_data",
          "data": {
            "image/png": "[encoded data removed]",
            "text/plain": [
              "<Figure size 443.25x360 with 1 Axes>"
            ]
          },
          "metadata": {
            "tags": []
          }
        }
      ]
    },
    {
      "cell_type": "code",
      "metadata": {
        "id": "J0aOcGIdd_9A",
        "colab_type": "code",
        "outputId": "892b6343-7673-49b2-b160-0f15da19f83d",
        "colab": {
          "base_uri": "https://localhost:8080/",
          "height": 419
        }
      },
      "source": [
        "import matplotlib.ticker as mtick\n",
        "df.groupby(['salary','Existing or Left']).size().groupby(level=0).apply(\n",
        "    lambda x: 100 * x / x.sum()).unstack().plot(kind='bar',stacked=True, figsize=(10,6))\n",
        "\n",
        "plt.gca().yaxis.set_major_formatter(mtick.PercentFormatter())\n",
        "plt.show()"
      ],
      "execution_count": 0,
      "outputs": [
        {
          "output_type": "display_data",
          "data": {
            "image/png": "[encoded data removed]",
            "text/plain": [
              "<Figure size 720x432 with 1 Axes>"
            ]
          },
          "metadata": {
            "tags": []
          }
        }
      ]
    },
    {
      "cell_type": "code",
      "metadata": {
        "id": "HOZGIvzIVET7",
        "colab_type": "code",
        "outputId": "0293505c-b490-4bb5-ba34-4529ce4ee20f",
        "colab": {
          "base_uri": "https://localhost:8080/",
          "height": 445
        }
      },
      "source": [
        "import matplotlib.ticker as mtick\n",
        "df.groupby(['dept','Existing or Left']).size().groupby(level=0).apply(\n",
        "    lambda x: 100 * x / x.sum()).unstack().plot(kind='bar',stacked=True, figsize=(10,6))\n",
        "\n",
        "plt.gca().yaxis.set_major_formatter(mtick.PercentFormatter())\n",
        "plt.show()\n"
      ],
      "execution_count": 0,
      "outputs": [
        {
          "output_type": "display_data",
          "data": {
            "image/png": "[encoded data removed]",
            "text/plain": [
              "<Figure size 720x432 with 1 Axes>"
            ]
          },
          "metadata": {
            "tags": []
          }
        }
      ]
    },
    {
      "cell_type": "code",
      "metadata": {
        "id": "iGEvq8b5kUYE",
        "colab_type": "code",
        "outputId": "05220856-9d1d-411e-85f8-15cbea0d9498",
        "colab": {
          "base_uri": "https://localhost:8080/",
          "height": 657
        }
      },
      "source": [
        "\n",
        "import matplotlib.ticker as mtick\n",
        "df.groupby(['Existing or Left','salary','dept']).size().groupby(level=0).apply(\n",
        "    lambda x: 100 * x / x.sum()).unstack().plot(kind='bar',stacked=True,figsize=(14,10))\n",
        "\n",
        "plt.gca().yaxis.set_major_formatter(mtick.PercentFormatter())\n",
        "plt.show()\n"
      ],
      "execution_count": 0,
      "outputs": [
        {
          "output_type": "display_data",
          "data": {
            "image/png": "[encoded data removed]",
            "text/plain": [
              "<Figure size 1008x720 with 1 Axes>"
            ]
          },
          "metadata": {
            "tags": []
          }
        }
      ]
    },
    {
      "cell_type": "code",
      "metadata": {
        "id": "DxIAmc20wlma",
        "colab_type": "code",
        "colab": {}
      },
      "source": [
        ""
      ],
      "execution_count": 0,
      "outputs": []
    },
    {
      "cell_type": "code",
      "metadata": {
        "id": "8lBSDqqjX7f-",
        "colab_type": "code",
        "outputId": "8c4b9b4e-9c69-435e-f531-cda8191b229c",
        "colab": {
          "base_uri": "https://localhost:8080/",
          "height": 204
        }
      },
      "source": [
        "df['dept'].value_counts()"
      ],
      "execution_count": 0,
      "outputs": [
        {
          "output_type": "execute_result",
          "data": {
            "text/plain": [
              "sales          4140\n",
              "technical      2720\n",
              "support        2229\n",
              "IT             1227\n",
              "product_mng     902\n",
              "marketing       858\n",
              "RandD           787\n",
              "accounting      767\n",
              "hr              739\n",
              "management      630\n",
              "Name: dept, dtype: int64"
            ]
          },
          "metadata": {
            "tags": []
          },
          "execution_count": 270
        }
      ]
    },
    {
      "cell_type": "code",
      "metadata": {
        "id": "7h1myhpnbzW6",
        "colab_type": "code",
        "colab": {}
      },
      "source": [
        "d4={'low':100,'medium':50,'high':25}\n",
        "df['salary']=df['salary'].map(d4)"
      ],
      "execution_count": 0,
      "outputs": []
    },
    {
      "cell_type": "code",
      "metadata": {
        "id": "MJJTTC-DNG_V",
        "colab_type": "code",
        "outputId": "75d0b168-eccb-4e7b-ecf0-f560269bf411",
        "colab": {
          "base_uri": "https://localhost:8080/",
          "height": 241
        }
      },
      "source": [
        "df1=pd.get_dummies(df,prefix=['dept'])\n",
        "df1.head()"
      ],
      "execution_count": 0,
      "outputs": [
        {
          "output_type": "execute_result",
          "data": {
            "text/html": [
              "<div>\n",
              "<style scoped>\n",
              "    .dataframe tbody tr th:only-of-type {\n",
              "        vertical-align: middle;\n",
              "    }\n",
              "\n",
              "    .dataframe tbody tr th {\n",
              "        vertical-align: top;\n",
              "    }\n",
              "\n",
              "    .dataframe thead th {\n",
              "        text-align: right;\n",
              "    }\n",
              "</style>\n",
              "<table border=\"1\" class=\"dataframe\">\n",
              "  <thead>\n",
              "    <tr style=\"text-align: right;\">\n",
              "      <th></th>\n",
              "      <th>Emp ID</th>\n",
              "      <th>satisfaction_level</th>\n",
              "      <th>last_evaluation</th>\n",
              "      <th>number_project</th>\n",
              "      <th>average_montly_hours</th>\n",
              "      <th>time_spend_company</th>\n",
              "      <th>Work_accident</th>\n",
              "      <th>promotion_last_5years</th>\n",
              "      <th>salary</th>\n",
              "      <th>Existing or Left</th>\n",
              "      <th>dept_IT</th>\n",
              "      <th>dept_RandD</th>\n",
              "      <th>dept_accounting</th>\n",
              "      <th>dept_hr</th>\n",
              "      <th>dept_management</th>\n",
              "      <th>dept_marketing</th>\n",
              "      <th>dept_product_mng</th>\n",
              "      <th>dept_sales</th>\n",
              "      <th>dept_support</th>\n",
              "      <th>dept_technical</th>\n",
              "    </tr>\n",
              "  </thead>\n",
              "  <tbody>\n",
              "    <tr>\n",
              "      <th>0</th>\n",
              "      <td>1</td>\n",
              "      <td>0.1</td>\n",
              "      <td>0.89</td>\n",
              "      <td>2</td>\n",
              "      <td>157</td>\n",
              "      <td>3</td>\n",
              "      <td>0</td>\n",
              "      <td>0</td>\n",
              "      <td>100</td>\n",
              "      <td>0</td>\n",
              "      <td>0</td>\n",
              "      <td>0</td>\n",
              "      <td>0</td>\n",
              "      <td>0</td>\n",
              "      <td>0</td>\n",
              "      <td>0</td>\n",
              "      <td>0</td>\n",
              "      <td>1</td>\n",
              "      <td>0</td>\n",
              "      <td>0</td>\n",
              "    </tr>\n",
              "    <tr>\n",
              "      <th>1</th>\n",
              "      <td>2</td>\n",
              "      <td>0.1</td>\n",
              "      <td>0.89</td>\n",
              "      <td>5</td>\n",
              "      <td>262</td>\n",
              "      <td>6</td>\n",
              "      <td>0</td>\n",
              "      <td>0</td>\n",
              "      <td>100</td>\n",
              "      <td>0</td>\n",
              "      <td>0</td>\n",
              "      <td>0</td>\n",
              "      <td>0</td>\n",
              "      <td>0</td>\n",
              "      <td>0</td>\n",
              "      <td>0</td>\n",
              "      <td>0</td>\n",
              "      <td>1</td>\n",
              "      <td>0</td>\n",
              "      <td>0</td>\n",
              "    </tr>\n",
              "    <tr>\n",
              "      <th>2</th>\n",
              "      <td>3</td>\n",
              "      <td>0.1</td>\n",
              "      <td>0.89</td>\n",
              "      <td>7</td>\n",
              "      <td>272</td>\n",
              "      <td>4</td>\n",
              "      <td>0</td>\n",
              "      <td>0</td>\n",
              "      <td>100</td>\n",
              "      <td>0</td>\n",
              "      <td>0</td>\n",
              "      <td>0</td>\n",
              "      <td>0</td>\n",
              "      <td>0</td>\n",
              "      <td>0</td>\n",
              "      <td>0</td>\n",
              "      <td>0</td>\n",
              "      <td>1</td>\n",
              "      <td>0</td>\n",
              "      <td>0</td>\n",
              "    </tr>\n",
              "    <tr>\n",
              "      <th>3</th>\n",
              "      <td>4</td>\n",
              "      <td>0.1</td>\n",
              "      <td>0.89</td>\n",
              "      <td>5</td>\n",
              "      <td>223</td>\n",
              "      <td>5</td>\n",
              "      <td>0</td>\n",
              "      <td>0</td>\n",
              "      <td>100</td>\n",
              "      <td>0</td>\n",
              "      <td>0</td>\n",
              "      <td>0</td>\n",
              "      <td>0</td>\n",
              "      <td>0</td>\n",
              "      <td>0</td>\n",
              "      <td>0</td>\n",
              "      <td>0</td>\n",
              "      <td>1</td>\n",
              "      <td>0</td>\n",
              "      <td>0</td>\n",
              "    </tr>\n",
              "    <tr>\n",
              "      <th>4</th>\n",
              "      <td>5</td>\n",
              "      <td>0.1</td>\n",
              "      <td>0.89</td>\n",
              "      <td>2</td>\n",
              "      <td>159</td>\n",
              "      <td>3</td>\n",
              "      <td>0</td>\n",
              "      <td>0</td>\n",
              "      <td>100</td>\n",
              "      <td>0</td>\n",
              "      <td>0</td>\n",
              "      <td>0</td>\n",
              "      <td>0</td>\n",
              "      <td>0</td>\n",
              "      <td>0</td>\n",
              "      <td>0</td>\n",
              "      <td>0</td>\n",
              "      <td>1</td>\n",
              "      <td>0</td>\n",
              "      <td>0</td>\n",
              "    </tr>\n",
              "  </tbody>\n",
              "</table>\n",
              "</div>"
            ],
            "text/plain": [
              "   Emp ID  satisfaction_level  ...  dept_support  dept_technical\n",
              "0       1                 0.1  ...             0               0\n",
              "1       2                 0.1  ...             0               0\n",
              "2       3                 0.1  ...             0               0\n",
              "3       4                 0.1  ...             0               0\n",
              "4       5                 0.1  ...             0               0\n",
              "\n",
              "[5 rows x 20 columns]"
            ]
          },
          "metadata": {
            "tags": []
          },
          "execution_count": 272
        }
      ]
    },
    {
      "cell_type": "code",
      "metadata": {
        "id": "U8M1YC34Yx8n",
        "colab_type": "code",
        "outputId": "c81f9dd9-ebef-45ac-faab-0c97f8e344cc",
        "colab": {
          "base_uri": "https://localhost:8080/",
          "height": 615
        }
      },
      "source": [
        "def heatmap(x, y, size):\n",
        "    fig, ax = plt.subplots(figsize=(9,9))\n",
        "    \n",
        "    # Mapping from column names to integer coordinates\n",
        "    x_labels = [v for v in sorted(x.unique())]\n",
        "    y_labels = [v for v in sorted(y.unique())]\n",
        "    x_to_num = {p[1]:p[0] for p in enumerate(x_labels)} \n",
        "    y_to_num = {p[1]:p[0] for p in enumerate(y_labels)} \n",
        "    \n",
        "    size_scale = 350\n",
        "    ax.scatter(\n",
        "        x=x.map(x_to_num), # Use mapping for x\n",
        "        y=y.map(y_to_num), # Use mapping for y\n",
        "        s=size * size_scale, # Vector of square sizes, proportional to size parameter\n",
        "        marker='s' # Use square as scatterplot marker\n",
        "        \n",
        "    )\n",
        "    \n",
        "    ax.grid(False, 'major')\n",
        "    ax.grid(True, 'minor')\n",
        "    ax.set_xticks([t + 0.5 for t in ax.get_xticks()], minor=True)\n",
        "    ax.set_yticks([t + 0.5 for t in ax.get_yticks()], minor=True)\n",
        "\n",
        "    # Show column labels on the axes\n",
        "    ax.set_xticks([x_to_num[v] for v in x_labels])\n",
        "    ax.set_xticklabels(x_labels, rotation=45, horizontalalignment='right')\n",
        "    ax.set_yticks([y_to_num[v] for v in y_labels])\n",
        "    ax.set_yticklabels(y_labels)\n",
        "features=['satisfaction_level','last_evaluation','number_project','average_montly_hours','time_spend_company','Work_accident','promotion_last_5years','salary','dept_IT','dept_RandD','dept_accounting','dept_hr','dept_management','dept_marketing','dept_product_mng','dept_sales','dept_support','dept_technical','Existing or Left']\n",
        "corr = df1[features].corr()\n",
        "corr = pd.melt(corr.reset_index(), id_vars='index') # Unpivot the dataframe, so we can get pair of arrays for x and y\n",
        "corr.columns = ['x', 'y', 'value']\n",
        "heatmap(\n",
        "    x=corr['x'],\n",
        "    y=corr['y'],\n",
        "    size=corr['value'].abs()*2\n",
        ")"
      ],
      "execution_count": 0,
      "outputs": [
        {
          "output_type": "display_data",
          "data": {
            "image/png": "[encoded data removed]",
            "text/plain": [
              "<Figure size 648x648 with 1 Axes>"
            ]
          },
          "metadata": {
            "tags": []
          }
        }
      ]
    },
    {
      "cell_type": "code",
      "metadata": {
        "id": "U894XWIYeeND",
        "colab_type": "code",
        "colab": {}
      },
      "source": [
        "features=['satisfaction_level','last_evaluation','number_project','average_montly_hours','time_spend_company','Work_accident','promotion_last_5years','salary','dept_IT','dept_RandD','dept_accounting','dept_hr','dept_management','dept_marketing','dept_product_mng','dept_sales','dept_support','dept_technical']\n",
        "X=df1[features]\n",
        "y=df1['Existing or Left']"
      ],
      "execution_count": 0,
      "outputs": []
    },
    {
      "cell_type": "code",
      "metadata": {
        "id": "HVU-Bt2Gifxx",
        "colab_type": "code",
        "colab": {}
      },
      "source": [
        "scaler = StandardScaler().fit(X)\n",
        "x = scaler.transform(X)"
      ],
      "execution_count": 0,
      "outputs": []
    },
    {
      "cell_type": "code",
      "metadata": {
        "id": "Tp2peW98dNza",
        "colab_type": "code",
        "colab": {}
      },
      "source": [
        "from sklearn.model_selection import train_test_split\n",
        "trainx,testx,trainy,testy=train_test_split(X,y,test_size=0.25,random_state=0)"
      ],
      "execution_count": 0,
      "outputs": []
    },
    {
      "cell_type": "code",
      "metadata": {
        "id": "nnEUXuKSfMN3",
        "colab_type": "code",
        "outputId": "344f8246-9670-4b2f-954d-97d882adc682",
        "colab": {
          "base_uri": "https://localhost:8080/",
          "height": 139
        }
      },
      "source": [
        "from sklearn.svm import SVC\n",
        "clf=SVC(kernel='rbf')\n",
        "clf.fit(trainx,trainy)"
      ],
      "execution_count": 0,
      "outputs": [
        {
          "output_type": "stream",
          "text": [
            "/usr/local/lib/python3.6/dist-packages/sklearn/svm/base.py:193: FutureWarning: The default value of gamma will change from 'auto' to 'scale' in version 0.22 to account better for unscaled features. Set gamma explicitly to 'auto' or 'scale' to avoid this warning.\n",
            "  \"avoid this warning.\", FutureWarning)\n"
          ],
          "name": "stderr"
        },
        {
          "output_type": "execute_result",
          "data": {
            "text/plain": [
              "SVC(C=1.0, cache_size=200, class_weight=None, coef0=0.0,\n",
              "    decision_function_shape='ovr', degree=3, gamma='auto_deprecated',\n",
              "    kernel='rbf', max_iter=-1, probability=False, random_state=None,\n",
              "    shrinking=True, tol=0.001, verbose=False)"
            ]
          },
          "metadata": {
            "tags": []
          },
          "execution_count": 277
        }
      ]
    },
    {
      "cell_type": "code",
      "metadata": {
        "id": "n5yu-MSgf7BB",
        "colab_type": "code",
        "outputId": "311dcbac-ec60-4294-bbd2-3eb9826bd2a3",
        "colab": {
          "base_uri": "https://localhost:8080/",
          "height": 34
        }
      },
      "source": [
        "ypredict=clf.predict(testx)\n",
        "clf.score(testx,testy)"
      ],
      "execution_count": 0,
      "outputs": [
        {
          "output_type": "execute_result",
          "data": {
            "text/plain": [
              "0.9482666666666667"
            ]
          },
          "metadata": {
            "tags": []
          },
          "execution_count": 278
        }
      ]
    },
    {
      "cell_type": "code",
      "metadata": {
        "id": "j7UXCe9ulsNa",
        "colab_type": "code",
        "outputId": "b7125b4e-2ba6-4ca9-a105-162f00c2e946",
        "colab": {
          "base_uri": "https://localhost:8080/",
          "height": 88
        }
      },
      "source": [
        "clf1 = RandomForestClassifier()\n",
        "clf1.fit(trainx, trainy)\n",
        "clf1.score(trainx,trainy)"
      ],
      "execution_count": 0,
      "outputs": [
        {
          "output_type": "stream",
          "text": [
            "/usr/local/lib/python3.6/dist-packages/sklearn/ensemble/forest.py:245: FutureWarning: The default value of n_estimators will change from 10 in version 0.20 to 100 in 0.22.\n",
            "  \"10 in version 0.20 to 100 in 0.22.\", FutureWarning)\n"
          ],
          "name": "stderr"
        },
        {
          "output_type": "execute_result",
          "data": {
            "text/plain": [
              "0.9990221353009157"
            ]
          },
          "metadata": {
            "tags": []
          },
          "execution_count": 279
        }
      ]
    },
    {
      "cell_type": "code",
      "metadata": {
        "id": "umKjOkg2gSRr",
        "colab_type": "code",
        "outputId": "c0d77eba-5d9d-4394-ae1e-c970d0bf728a",
        "colab": {
          "base_uri": "https://localhost:8080/",
          "height": 1000
        }
      },
      "source": [
        "\n",
        "param_grid = {\n",
        "    'n_estimators': [21, 20,22],\n",
        "    'max_depth': [23,24, 21,20]\n",
        "}\n",
        "gridsearch = GridSearchCV(RandomForestClassifier(n_jobs = -1), \n",
        "                          param_grid=param_grid, \n",
        "                          scoring='accuracy', cv=3, \n",
        "                          return_train_score=True, verbose=10)\n",
        "gridsearch.fit(trainx,trainy)"
      ],
      "execution_count": 0,
      "outputs": [
        {
          "output_type": "stream",
          "text": [
            "Fitting 3 folds for each of 12 candidates, totalling 36 fits\n",
            "[CV] max_depth=23, n_estimators=21 ...................................\n"
          ],
          "name": "stdout"
        },
        {
          "output_type": "stream",
          "text": [
            "[Parallel(n_jobs=1)]: Using backend SequentialBackend with 1 concurrent workers.\n"
          ],
          "name": "stderr"
        },
        {
          "output_type": "stream",
          "text": [
            "[CV]  max_depth=23, n_estimators=21, score=(train=0.999, test=0.985), total=   1.2s\n",
            "[CV] max_depth=23, n_estimators=21 ...................................\n"
          ],
          "name": "stdout"
        },
        {
          "output_type": "stream",
          "text": [
            "[Parallel(n_jobs=1)]: Done   1 out of   1 | elapsed:    1.3s remaining:    0.0s\n"
          ],
          "name": "stderr"
        },
        {
          "output_type": "stream",
          "text": [
            "[CV]  max_depth=23, n_estimators=21, score=(train=0.999, test=0.983), total=   0.2s\n",
            "[CV] max_depth=23, n_estimators=21 ...................................\n"
          ],
          "name": "stdout"
        },
        {
          "output_type": "stream",
          "text": [
            "[Parallel(n_jobs=1)]: Done   2 out of   2 | elapsed:    1.7s remaining:    0.0s\n"
          ],
          "name": "stderr"
        },
        {
          "output_type": "stream",
          "text": [
            "[CV]  max_depth=23, n_estimators=21, score=(train=1.000, test=0.985), total=   0.2s\n",
            "[CV] max_depth=23, n_estimators=20 ...................................\n"
          ],
          "name": "stdout"
        },
        {
          "output_type": "stream",
          "text": [
            "[Parallel(n_jobs=1)]: Done   3 out of   3 | elapsed:    2.0s remaining:    0.0s\n"
          ],
          "name": "stderr"
        },
        {
          "output_type": "stream",
          "text": [
            "[CV]  max_depth=23, n_estimators=20, score=(train=1.000, test=0.986), total=   0.2s\n",
            "[CV] max_depth=23, n_estimators=20 ...................................\n"
          ],
          "name": "stdout"
        },
        {
          "output_type": "stream",
          "text": [
            "[Parallel(n_jobs=1)]: Done   4 out of   4 | elapsed:    2.4s remaining:    0.0s\n"
          ],
          "name": "stderr"
        },
        {
          "output_type": "stream",
          "text": [
            "[CV]  max_depth=23, n_estimators=20, score=(train=1.000, test=0.985), total=   0.2s\n",
            "[CV] max_depth=23, n_estimators=20 ...................................\n"
          ],
          "name": "stdout"
        },
        {
          "output_type": "stream",
          "text": [
            "[Parallel(n_jobs=1)]: Done   5 out of   5 | elapsed:    2.7s remaining:    0.0s\n"
          ],
          "name": "stderr"
        },
        {
          "output_type": "stream",
          "text": [
            "[CV]  max_depth=23, n_estimators=20, score=(train=0.999, test=0.984), total=   0.2s\n",
            "[CV] max_depth=23, n_estimators=22 ...................................\n"
          ],
          "name": "stdout"
        },
        {
          "output_type": "stream",
          "text": [
            "[Parallel(n_jobs=1)]: Done   6 out of   6 | elapsed:    3.1s remaining:    0.0s\n"
          ],
          "name": "stderr"
        },
        {
          "output_type": "stream",
          "text": [
            "[CV]  max_depth=23, n_estimators=22, score=(train=1.000, test=0.985), total=   0.3s\n",
            "[CV] max_depth=23, n_estimators=22 ...................................\n"
          ],
          "name": "stdout"
        },
        {
          "output_type": "stream",
          "text": [
            "[Parallel(n_jobs=1)]: Done   7 out of   7 | elapsed:    3.4s remaining:    0.0s\n"
          ],
          "name": "stderr"
        },
        {
          "output_type": "stream",
          "text": [
            "[CV]  max_depth=23, n_estimators=22, score=(train=0.999, test=0.986), total=   0.3s\n",
            "[CV] max_depth=23, n_estimators=22 ...................................\n"
          ],
          "name": "stdout"
        },
        {
          "output_type": "stream",
          "text": [
            "[Parallel(n_jobs=1)]: Done   8 out of   8 | elapsed:    3.8s remaining:    0.0s\n"
          ],
          "name": "stderr"
        },
        {
          "output_type": "stream",
          "text": [
            "[CV]  max_depth=23, n_estimators=22, score=(train=0.999, test=0.985), total=   0.3s\n",
            "[CV] max_depth=24, n_estimators=21 ...................................\n"
          ],
          "name": "stdout"
        },
        {
          "output_type": "stream",
          "text": [
            "[Parallel(n_jobs=1)]: Done   9 out of   9 | elapsed:    4.1s remaining:    0.0s\n"
          ],
          "name": "stderr"
        },
        {
          "output_type": "stream",
          "text": [
            "[CV]  max_depth=24, n_estimators=21, score=(train=0.999, test=0.986), total=   0.2s\n",
            "[CV] max_depth=24, n_estimators=21 ...................................\n",
            "[CV]  max_depth=24, n_estimators=21, score=(train=0.999, test=0.985), total=   0.2s\n",
            "[CV] max_depth=24, n_estimators=21 ...................................\n",
            "[CV]  max_depth=24, n_estimators=21, score=(train=0.999, test=0.985), total=   0.2s\n",
            "[CV] max_depth=24, n_estimators=20 ...................................\n",
            "[CV]  max_depth=24, n_estimators=20, score=(train=1.000, test=0.985), total=   0.2s\n",
            "[CV] max_depth=24, n_estimators=20 ...................................\n",
            "[CV]  max_depth=24, n_estimators=20, score=(train=0.999, test=0.986), total=   0.2s\n",
            "[CV] max_depth=24, n_estimators=20 ...................................\n",
            "[CV]  max_depth=24, n_estimators=20, score=(train=1.000, test=0.984), total=   0.2s\n",
            "[CV] max_depth=24, n_estimators=22 ...................................\n",
            "[CV]  max_depth=24, n_estimators=22, score=(train=0.999, test=0.985), total=   0.2s\n",
            "[CV] max_depth=24, n_estimators=22 ...................................\n",
            "[CV]  max_depth=24, n_estimators=22, score=(train=0.999, test=0.984), total=   0.2s\n",
            "[CV] max_depth=24, n_estimators=22 ...................................\n",
            "[CV]  max_depth=24, n_estimators=22, score=(train=1.000, test=0.984), total=   0.2s\n",
            "[CV] max_depth=21, n_estimators=21 ...................................\n",
            "[CV]  max_depth=21, n_estimators=21, score=(train=1.000, test=0.986), total=   0.2s\n",
            "[CV] max_depth=21, n_estimators=21 ...................................\n",
            "[CV]  max_depth=21, n_estimators=21, score=(train=0.999, test=0.984), total=   0.2s\n",
            "[CV] max_depth=21, n_estimators=21 ...................................\n",
            "[CV]  max_depth=21, n_estimators=21, score=(train=0.999, test=0.984), total=   0.2s\n",
            "[CV] max_depth=21, n_estimators=20 ...................................\n",
            "[CV]  max_depth=21, n_estimators=20, score=(train=1.000, test=0.985), total=   0.2s\n",
            "[CV] max_depth=21, n_estimators=20 ...................................\n",
            "[CV]  max_depth=21, n_estimators=20, score=(train=1.000, test=0.984), total=   0.2s\n",
            "[CV] max_depth=21, n_estimators=20 ...................................\n",
            "[CV]  max_depth=21, n_estimators=20, score=(train=0.999, test=0.983), total=   0.2s\n",
            "[CV] max_depth=21, n_estimators=22 ...................................\n",
            "[CV]  max_depth=21, n_estimators=22, score=(train=1.000, test=0.986), total=   0.3s\n",
            "[CV] max_depth=21, n_estimators=22 ...................................\n",
            "[CV]  max_depth=21, n_estimators=22, score=(train=0.999, test=0.985), total=   0.2s\n",
            "[CV] max_depth=21, n_estimators=22 ...................................\n",
            "[CV]  max_depth=21, n_estimators=22, score=(train=1.000, test=0.982), total=   0.2s\n",
            "[CV] max_depth=20, n_estimators=21 ...................................\n",
            "[CV]  max_depth=20, n_estimators=21, score=(train=0.999, test=0.984), total=   0.2s\n",
            "[CV] max_depth=20, n_estimators=21 ...................................\n",
            "[CV]  max_depth=20, n_estimators=21, score=(train=0.999, test=0.984), total=   0.2s\n",
            "[CV] max_depth=20, n_estimators=21 ...................................\n",
            "[CV]  max_depth=20, n_estimators=21, score=(train=0.999, test=0.983), total=   0.2s\n",
            "[CV] max_depth=20, n_estimators=20 ...................................\n",
            "[CV]  max_depth=20, n_estimators=20, score=(train=0.999, test=0.986), total=   0.2s\n",
            "[CV] max_depth=20, n_estimators=20 ...................................\n",
            "[CV]  max_depth=20, n_estimators=20, score=(train=0.999, test=0.984), total=   0.2s\n",
            "[CV] max_depth=20, n_estimators=20 ...................................\n",
            "[CV]  max_depth=20, n_estimators=20, score=(train=0.999, test=0.985), total=   0.2s\n",
            "[CV] max_depth=20, n_estimators=22 ...................................\n",
            "[CV]  max_depth=20, n_estimators=22, score=(train=0.999, test=0.984), total=   0.3s\n",
            "[CV] max_depth=20, n_estimators=22 ...................................\n",
            "[CV]  max_depth=20, n_estimators=22, score=(train=0.999, test=0.985), total=   0.3s\n",
            "[CV] max_depth=20, n_estimators=22 ...................................\n",
            "[CV]  max_depth=20, n_estimators=22, score=(train=0.999, test=0.982), total=   0.2s\n"
          ],
          "name": "stdout"
        },
        {
          "output_type": "stream",
          "text": [
            "[Parallel(n_jobs=1)]: Done  36 out of  36 | elapsed:   13.5s finished\n"
          ],
          "name": "stderr"
        },
        {
          "output_type": "execute_result",
          "data": {
            "text/plain": [
              "GridSearchCV(cv=3, error_score='raise-deprecating',\n",
              "             estimator=RandomForestClassifier(bootstrap=True, class_weight=None,\n",
              "                                              criterion='gini', max_depth=None,\n",
              "                                              max_features='auto',\n",
              "                                              max_leaf_nodes=None,\n",
              "                                              min_impurity_decrease=0.0,\n",
              "                                              min_impurity_split=None,\n",
              "                                              min_samples_leaf=1,\n",
              "                                              min_samples_split=2,\n",
              "                                              min_weight_fraction_leaf=0.0,\n",
              "                                              n_estimators='warn', n_jobs=-1,\n",
              "                                              oob_score=False,\n",
              "                                              random_state=None, verbose=0,\n",
              "                                              warm_start=False),\n",
              "             iid='warn', n_jobs=None,\n",
              "             param_grid={'max_depth': [23, 24, 21, 20],\n",
              "                         'n_estimators': [21, 20, 22]},\n",
              "             pre_dispatch='2*n_jobs', refit=True, return_train_score=True,\n",
              "             scoring='accuracy', verbose=10)"
            ]
          },
          "metadata": {
            "tags": []
          },
          "execution_count": 280
        }
      ]
    },
    {
      "cell_type": "code",
      "metadata": {
        "id": "HTfSRalXg2Dj",
        "colab_type": "code",
        "outputId": "d7d7e3a2-b165-4954-9756-c02086a3105d",
        "colab": {
          "base_uri": "https://localhost:8080/",
          "height": 1000
        }
      },
      "source": [
        "pd.DataFrame(gridsearch.cv_results_).sort_values(by='rank_test_score')"
      ],
      "execution_count": 0,
      "outputs": [
        {
          "output_type": "execute_result",
          "data": {
            "text/html": [
              "<div>\n",
              "<style scoped>\n",
              "    .dataframe tbody tr th:only-of-type {\n",
              "        vertical-align: middle;\n",
              "    }\n",
              "\n",
              "    .dataframe tbody tr th {\n",
              "        vertical-align: top;\n",
              "    }\n",
              "\n",
              "    .dataframe thead th {\n",
              "        text-align: right;\n",
              "    }\n",
              "</style>\n",
              "<table border=\"1\" class=\"dataframe\">\n",
              "  <thead>\n",
              "    <tr style=\"text-align: right;\">\n",
              "      <th></th>\n",
              "      <th>mean_fit_time</th>\n",
              "      <th>std_fit_time</th>\n",
              "      <th>mean_score_time</th>\n",
              "      <th>std_score_time</th>\n",
              "      <th>param_max_depth</th>\n",
              "      <th>param_n_estimators</th>\n",
              "      <th>params</th>\n",
              "      <th>split0_test_score</th>\n",
              "      <th>split1_test_score</th>\n",
              "      <th>split2_test_score</th>\n",
              "      <th>mean_test_score</th>\n",
              "      <th>std_test_score</th>\n",
              "      <th>rank_test_score</th>\n",
              "      <th>split0_train_score</th>\n",
              "      <th>split1_train_score</th>\n",
              "      <th>split2_train_score</th>\n",
              "      <th>mean_train_score</th>\n",
              "      <th>std_train_score</th>\n",
              "    </tr>\n",
              "  </thead>\n",
              "  <tbody>\n",
              "    <tr>\n",
              "      <th>1</th>\n",
              "      <td>0.132023</td>\n",
              "      <td>0.003463</td>\n",
              "      <td>0.104028</td>\n",
              "      <td>0.000069</td>\n",
              "      <td>23</td>\n",
              "      <td>20</td>\n",
              "      <td>{'max_depth': 23, 'n_estimators': 20}</td>\n",
              "      <td>0.986400</td>\n",
              "      <td>0.985067</td>\n",
              "      <td>0.983996</td>\n",
              "      <td>0.985154</td>\n",
              "      <td>0.000983</td>\n",
              "      <td>1</td>\n",
              "      <td>0.999867</td>\n",
              "      <td>0.999733</td>\n",
              "      <td>0.999333</td>\n",
              "      <td>0.999644</td>\n",
              "      <td>0.000227</td>\n",
              "    </tr>\n",
              "    <tr>\n",
              "      <th>3</th>\n",
              "      <td>0.136410</td>\n",
              "      <td>0.002468</td>\n",
              "      <td>0.104114</td>\n",
              "      <td>0.000086</td>\n",
              "      <td>24</td>\n",
              "      <td>21</td>\n",
              "      <td>{'max_depth': 24, 'n_estimators': 21}</td>\n",
              "      <td>0.986400</td>\n",
              "      <td>0.984533</td>\n",
              "      <td>0.984529</td>\n",
              "      <td>0.985154</td>\n",
              "      <td>0.000881</td>\n",
              "      <td>1</td>\n",
              "      <td>0.999467</td>\n",
              "      <td>0.999333</td>\n",
              "      <td>0.999333</td>\n",
              "      <td>0.999378</td>\n",
              "      <td>0.000063</td>\n",
              "    </tr>\n",
              "    <tr>\n",
              "      <th>2</th>\n",
              "      <td>0.151777</td>\n",
              "      <td>0.004113</td>\n",
              "      <td>0.104573</td>\n",
              "      <td>0.000527</td>\n",
              "      <td>23</td>\n",
              "      <td>22</td>\n",
              "      <td>{'max_depth': 23, 'n_estimators': 22}</td>\n",
              "      <td>0.984800</td>\n",
              "      <td>0.985600</td>\n",
              "      <td>0.984796</td>\n",
              "      <td>0.985065</td>\n",
              "      <td>0.000378</td>\n",
              "      <td>3</td>\n",
              "      <td>0.999733</td>\n",
              "      <td>0.999333</td>\n",
              "      <td>0.999467</td>\n",
              "      <td>0.999511</td>\n",
              "      <td>0.000166</td>\n",
              "    </tr>\n",
              "    <tr>\n",
              "      <th>10</th>\n",
              "      <td>0.129238</td>\n",
              "      <td>0.002132</td>\n",
              "      <td>0.104169</td>\n",
              "      <td>0.000064</td>\n",
              "      <td>20</td>\n",
              "      <td>20</td>\n",
              "      <td>{'max_depth': 20, 'n_estimators': 20}</td>\n",
              "      <td>0.985600</td>\n",
              "      <td>0.984267</td>\n",
              "      <td>0.985329</td>\n",
              "      <td>0.985065</td>\n",
              "      <td>0.000575</td>\n",
              "      <td>3</td>\n",
              "      <td>0.999467</td>\n",
              "      <td>0.999067</td>\n",
              "      <td>0.998667</td>\n",
              "      <td>0.999067</td>\n",
              "      <td>0.000327</td>\n",
              "    </tr>\n",
              "    <tr>\n",
              "      <th>4</th>\n",
              "      <td>0.132571</td>\n",
              "      <td>0.005441</td>\n",
              "      <td>0.104139</td>\n",
              "      <td>0.000033</td>\n",
              "      <td>24</td>\n",
              "      <td>20</td>\n",
              "      <td>{'max_depth': 24, 'n_estimators': 20}</td>\n",
              "      <td>0.984533</td>\n",
              "      <td>0.985600</td>\n",
              "      <td>0.983729</td>\n",
              "      <td>0.984621</td>\n",
              "      <td>0.000766</td>\n",
              "      <td>5</td>\n",
              "      <td>0.999733</td>\n",
              "      <td>0.999067</td>\n",
              "      <td>0.999733</td>\n",
              "      <td>0.999511</td>\n",
              "      <td>0.000314</td>\n",
              "    </tr>\n",
              "    <tr>\n",
              "      <th>6</th>\n",
              "      <td>0.137957</td>\n",
              "      <td>0.005541</td>\n",
              "      <td>0.104270</td>\n",
              "      <td>0.000074</td>\n",
              "      <td>21</td>\n",
              "      <td>21</td>\n",
              "      <td>{'max_depth': 21, 'n_estimators': 21}</td>\n",
              "      <td>0.986133</td>\n",
              "      <td>0.984000</td>\n",
              "      <td>0.983729</td>\n",
              "      <td>0.984621</td>\n",
              "      <td>0.001075</td>\n",
              "      <td>5</td>\n",
              "      <td>0.999600</td>\n",
              "      <td>0.999333</td>\n",
              "      <td>0.999200</td>\n",
              "      <td>0.999378</td>\n",
              "      <td>0.000166</td>\n",
              "    </tr>\n",
              "    <tr>\n",
              "      <th>8</th>\n",
              "      <td>0.144876</td>\n",
              "      <td>0.003666</td>\n",
              "      <td>0.104204</td>\n",
              "      <td>0.000127</td>\n",
              "      <td>21</td>\n",
              "      <td>22</td>\n",
              "      <td>{'max_depth': 21, 'n_estimators': 22}</td>\n",
              "      <td>0.986133</td>\n",
              "      <td>0.985067</td>\n",
              "      <td>0.982395</td>\n",
              "      <td>0.984532</td>\n",
              "      <td>0.001572</td>\n",
              "      <td>7</td>\n",
              "      <td>0.999600</td>\n",
              "      <td>0.999067</td>\n",
              "      <td>0.999600</td>\n",
              "      <td>0.999422</td>\n",
              "      <td>0.000251</td>\n",
              "    </tr>\n",
              "    <tr>\n",
              "      <th>0</th>\n",
              "      <td>0.466461</td>\n",
              "      <td>0.459265</td>\n",
              "      <td>0.104623</td>\n",
              "      <td>0.000403</td>\n",
              "      <td>23</td>\n",
              "      <td>21</td>\n",
              "      <td>{'max_depth': 23, 'n_estimators': 21}</td>\n",
              "      <td>0.985067</td>\n",
              "      <td>0.982933</td>\n",
              "      <td>0.985329</td>\n",
              "      <td>0.984443</td>\n",
              "      <td>0.001073</td>\n",
              "      <td>8</td>\n",
              "      <td>0.999333</td>\n",
              "      <td>0.998533</td>\n",
              "      <td>0.999600</td>\n",
              "      <td>0.999155</td>\n",
              "      <td>0.000453</td>\n",
              "    </tr>\n",
              "    <tr>\n",
              "      <th>5</th>\n",
              "      <td>0.143923</td>\n",
              "      <td>0.001192</td>\n",
              "      <td>0.104129</td>\n",
              "      <td>0.000069</td>\n",
              "      <td>24</td>\n",
              "      <td>22</td>\n",
              "      <td>{'max_depth': 24, 'n_estimators': 22}</td>\n",
              "      <td>0.985067</td>\n",
              "      <td>0.984267</td>\n",
              "      <td>0.983996</td>\n",
              "      <td>0.984443</td>\n",
              "      <td>0.000455</td>\n",
              "      <td>8</td>\n",
              "      <td>0.999467</td>\n",
              "      <td>0.998800</td>\n",
              "      <td>0.999733</td>\n",
              "      <td>0.999333</td>\n",
              "      <td>0.000393</td>\n",
              "    </tr>\n",
              "    <tr>\n",
              "      <th>11</th>\n",
              "      <td>0.146438</td>\n",
              "      <td>0.003081</td>\n",
              "      <td>0.104176</td>\n",
              "      <td>0.000064</td>\n",
              "      <td>20</td>\n",
              "      <td>22</td>\n",
              "      <td>{'max_depth': 20, 'n_estimators': 22}</td>\n",
              "      <td>0.984267</td>\n",
              "      <td>0.985333</td>\n",
              "      <td>0.982395</td>\n",
              "      <td>0.983999</td>\n",
              "      <td>0.001214</td>\n",
              "      <td>10</td>\n",
              "      <td>0.999467</td>\n",
              "      <td>0.998666</td>\n",
              "      <td>0.999067</td>\n",
              "      <td>0.999067</td>\n",
              "      <td>0.000327</td>\n",
              "    </tr>\n",
              "    <tr>\n",
              "      <th>7</th>\n",
              "      <td>0.128634</td>\n",
              "      <td>0.001227</td>\n",
              "      <td>0.104065</td>\n",
              "      <td>0.000053</td>\n",
              "      <td>21</td>\n",
              "      <td>20</td>\n",
              "      <td>{'max_depth': 21, 'n_estimators': 20}</td>\n",
              "      <td>0.984800</td>\n",
              "      <td>0.984267</td>\n",
              "      <td>0.982662</td>\n",
              "      <td>0.983910</td>\n",
              "      <td>0.000909</td>\n",
              "      <td>11</td>\n",
              "      <td>0.999600</td>\n",
              "      <td>0.999600</td>\n",
              "      <td>0.999333</td>\n",
              "      <td>0.999511</td>\n",
              "      <td>0.000126</td>\n",
              "    </tr>\n",
              "    <tr>\n",
              "      <th>9</th>\n",
              "      <td>0.138295</td>\n",
              "      <td>0.002724</td>\n",
              "      <td>0.104239</td>\n",
              "      <td>0.000059</td>\n",
              "      <td>20</td>\n",
              "      <td>21</td>\n",
              "      <td>{'max_depth': 20, 'n_estimators': 21}</td>\n",
              "      <td>0.984267</td>\n",
              "      <td>0.984000</td>\n",
              "      <td>0.983462</td>\n",
              "      <td>0.983910</td>\n",
              "      <td>0.000335</td>\n",
              "      <td>11</td>\n",
              "      <td>0.999200</td>\n",
              "      <td>0.998933</td>\n",
              "      <td>0.999200</td>\n",
              "      <td>0.999111</td>\n",
              "      <td>0.000126</td>\n",
              "    </tr>\n",
              "  </tbody>\n",
              "</table>\n",
              "</div>"
            ],
            "text/plain": [
              "    mean_fit_time  std_fit_time  ...  mean_train_score  std_train_score\n",
              "1        0.132023      0.003463  ...          0.999644         0.000227\n",
              "3        0.136410      0.002468  ...          0.999378         0.000063\n",
              "2        0.151777      0.004113  ...          0.999511         0.000166\n",
              "10       0.129238      0.002132  ...          0.999067         0.000327\n",
              "4        0.132571      0.005441  ...          0.999511         0.000314\n",
              "6        0.137957      0.005541  ...          0.999378         0.000166\n",
              "8        0.144876      0.003666  ...          0.999422         0.000251\n",
              "0        0.466461      0.459265  ...          0.999155         0.000453\n",
              "5        0.143923      0.001192  ...          0.999333         0.000393\n",
              "11       0.146438      0.003081  ...          0.999067         0.000327\n",
              "7        0.128634      0.001227  ...          0.999511         0.000126\n",
              "9        0.138295      0.002724  ...          0.999111         0.000126\n",
              "\n",
              "[12 rows x 18 columns]"
            ]
          },
          "metadata": {
            "tags": []
          },
          "execution_count": 281
        }
      ]
    },
    {
      "cell_type": "code",
      "metadata": {
        "id": "d7exxtEwkfhr",
        "colab_type": "code",
        "outputId": "c52fbb6b-b7a6-4a14-a03a-8aa8840bda88",
        "colab": {
          "base_uri": "https://localhost:8080/",
          "height": 34
        }
      },
      "source": [
        "clf1  = RandomForestClassifier(max_depth = 21, \n",
        "                             n_estimators = 22, \n",
        "                             n_jobs = -1,random_state=1)\n",
        "clf1.fit(trainx, trainy)\n",
        "clf1.score(testx,testy)"
      ],
      "execution_count": 0,
      "outputs": [
        {
          "output_type": "execute_result",
          "data": {
            "text/plain": [
              "0.9890666666666666"
            ]
          },
          "metadata": {
            "tags": []
          },
          "execution_count": 282
        }
      ]
    },
    {
      "cell_type": "code",
      "metadata": {
        "id": "00JVUhyqiYhp",
        "colab_type": "code",
        "outputId": "dd38b800-3f0a-47f8-a488-cfe4f381bf4a",
        "colab": {
          "base_uri": "https://localhost:8080/",
          "height": 241
        }
      },
      "source": [
        "df2=pd.read_csv(\"Existing.csv\")\n",
        "df2.head()"
      ],
      "execution_count": 0,
      "outputs": [
        {
          "output_type": "execute_result",
          "data": {
            "text/html": [
              "<div>\n",
              "<style scoped>\n",
              "    .dataframe tbody tr th:only-of-type {\n",
              "        vertical-align: middle;\n",
              "    }\n",
              "\n",
              "    .dataframe tbody tr th {\n",
              "        vertical-align: top;\n",
              "    }\n",
              "\n",
              "    .dataframe thead th {\n",
              "        text-align: right;\n",
              "    }\n",
              "</style>\n",
              "<table border=\"1\" class=\"dataframe\">\n",
              "  <thead>\n",
              "    <tr style=\"text-align: right;\">\n",
              "      <th></th>\n",
              "      <th>Emp ID</th>\n",
              "      <th>satisfaction_level</th>\n",
              "      <th>last_evaluation</th>\n",
              "      <th>number_project</th>\n",
              "      <th>average_montly_hours</th>\n",
              "      <th>time_spend_company</th>\n",
              "      <th>Work_accident</th>\n",
              "      <th>promotion_last_5years</th>\n",
              "      <th>dept</th>\n",
              "      <th>salary</th>\n",
              "    </tr>\n",
              "  </thead>\n",
              "  <tbody>\n",
              "    <tr>\n",
              "      <th>0</th>\n",
              "      <td>14211</td>\n",
              "      <td>0.50</td>\n",
              "      <td>0.73</td>\n",
              "      <td>4</td>\n",
              "      <td>180</td>\n",
              "      <td>3</td>\n",
              "      <td>0</td>\n",
              "      <td>0</td>\n",
              "      <td>IT</td>\n",
              "      <td>low</td>\n",
              "    </tr>\n",
              "    <tr>\n",
              "      <th>1</th>\n",
              "      <td>14210</td>\n",
              "      <td>0.33</td>\n",
              "      <td>0.65</td>\n",
              "      <td>3</td>\n",
              "      <td>172</td>\n",
              "      <td>10</td>\n",
              "      <td>0</td>\n",
              "      <td>1</td>\n",
              "      <td>marketing</td>\n",
              "      <td>high</td>\n",
              "    </tr>\n",
              "    <tr>\n",
              "      <th>2</th>\n",
              "      <td>14209</td>\n",
              "      <td>0.85</td>\n",
              "      <td>0.54</td>\n",
              "      <td>3</td>\n",
              "      <td>185</td>\n",
              "      <td>10</td>\n",
              "      <td>0</td>\n",
              "      <td>1</td>\n",
              "      <td>management</td>\n",
              "      <td>high</td>\n",
              "    </tr>\n",
              "    <tr>\n",
              "      <th>3</th>\n",
              "      <td>14208</td>\n",
              "      <td>0.74</td>\n",
              "      <td>0.95</td>\n",
              "      <td>5</td>\n",
              "      <td>266</td>\n",
              "      <td>10</td>\n",
              "      <td>0</td>\n",
              "      <td>1</td>\n",
              "      <td>management</td>\n",
              "      <td>high</td>\n",
              "    </tr>\n",
              "    <tr>\n",
              "      <th>4</th>\n",
              "      <td>14207</td>\n",
              "      <td>0.90</td>\n",
              "      <td>0.55</td>\n",
              "      <td>3</td>\n",
              "      <td>259</td>\n",
              "      <td>10</td>\n",
              "      <td>1</td>\n",
              "      <td>1</td>\n",
              "      <td>management</td>\n",
              "      <td>high</td>\n",
              "    </tr>\n",
              "  </tbody>\n",
              "</table>\n",
              "</div>"
            ],
            "text/plain": [
              "   Emp ID  satisfaction_level  ...        dept  salary\n",
              "0   14211                0.50  ...          IT     low\n",
              "1   14210                0.33  ...   marketing    high\n",
              "2   14209                0.85  ...  management    high\n",
              "3   14208                0.74  ...  management    high\n",
              "4   14207                0.90  ...  management    high\n",
              "\n",
              "[5 rows x 10 columns]"
            ]
          },
          "metadata": {
            "tags": []
          },
          "execution_count": 283
        }
      ]
    },
    {
      "cell_type": "code",
      "metadata": {
        "id": "7-yt2F_GkMZz",
        "colab_type": "code",
        "colab": {}
      },
      "source": [
        "y10=df2['dept']\n",
        "y11=df2['salary']"
      ],
      "execution_count": 0,
      "outputs": []
    },
    {
      "cell_type": "code",
      "metadata": {
        "id": "fRO9NB0CjaJZ",
        "colab_type": "code",
        "colab": {}
      },
      "source": [
        "d4={'low':100,'medium':50,'high':25}\n",
        "df2['salary']=df2['salary'].map(d4)\n",
        "df2=pd.get_dummies(df2,prefix=['dept'])"
      ],
      "execution_count": 0,
      "outputs": []
    },
    {
      "cell_type": "code",
      "metadata": {
        "id": "HPGIJKzMm_p_",
        "colab_type": "code",
        "outputId": "2c845d57-fb9f-43ae-c6e1-2784f5544a15",
        "colab": {
          "base_uri": "https://localhost:8080/",
          "height": 34
        }
      },
      "source": [
        "# from sklearn.model_selection import cross_val_score, cross_val_predict\n",
        "# y=cross_val_predict(clf1, df2[features],y, cv=6)\n",
        " y=clf1.predict(df2[features])\n",
        "y"
      ],
      "execution_count": 0,
      "outputs": [
        {
          "output_type": "execute_result",
          "data": {
            "text/plain": [
              "array([1, 1, 1, ..., 1, 1, 1])"
            ]
          },
          "metadata": {
            "tags": []
          },
          "execution_count": 286
        }
      ]
    },
    {
      "cell_type": "code",
      "metadata": {
        "id": "RfGL8nKnklFp",
        "colab_type": "code",
        "outputId": "3639b203-f63d-4f14-ddb5-bf63e39e9793",
        "colab": {
          "base_uri": "https://localhost:8080/",
          "height": 547
        }
      },
      "source": [
        "features1=['Emp ID','satisfaction_level','last_evaluation','number_project','average_montly_hours','time_spend_company','Work_accident','promotion_last_5years']\n",
        "df3=df2[features1]\n",
        "df3['salary']=y11\n",
        "df3['dept']=y10\n",
        "df3['Existing or Left']=y\n",
        "df3.head()"
      ],
      "execution_count": 0,
      "outputs": [
        {
          "output_type": "stream",
          "text": [
            "/usr/local/lib/python3.6/dist-packages/ipykernel_launcher.py:3: SettingWithCopyWarning: \n",
            "A value is trying to be set on a copy of a slice from a DataFrame.\n",
            "Try using .loc[row_indexer,col_indexer] = value instead\n",
            "\n",
            "See the caveats in the documentation: http://pandas.pydata.org/pandas-docs/stable/user_guide/indexing.html#returning-a-view-versus-a-copy\n",
            "  This is separate from the ipykernel package so we can avoid doing imports until\n",
            "/usr/local/lib/python3.6/dist-packages/ipykernel_launcher.py:4: SettingWithCopyWarning: \n",
            "A value is trying to be set on a copy of a slice from a DataFrame.\n",
            "Try using .loc[row_indexer,col_indexer] = value instead\n",
            "\n",
            "See the caveats in the documentation: http://pandas.pydata.org/pandas-docs/stable/user_guide/indexing.html#returning-a-view-versus-a-copy\n",
            "  after removing the cwd from sys.path.\n",
            "/usr/local/lib/python3.6/dist-packages/ipykernel_launcher.py:5: SettingWithCopyWarning: \n",
            "A value is trying to be set on a copy of a slice from a DataFrame.\n",
            "Try using .loc[row_indexer,col_indexer] = value instead\n",
            "\n",
            "See the caveats in the documentation: http://pandas.pydata.org/pandas-docs/stable/user_guide/indexing.html#returning-a-view-versus-a-copy\n",
            "  \"\"\"\n"
          ],
          "name": "stderr"
        },
        {
          "output_type": "execute_result",
          "data": {
            "text/html": [
              "<div>\n",
              "<style scoped>\n",
              "    .dataframe tbody tr th:only-of-type {\n",
              "        vertical-align: middle;\n",
              "    }\n",
              "\n",
              "    .dataframe tbody tr th {\n",
              "        vertical-align: top;\n",
              "    }\n",
              "\n",
              "    .dataframe thead th {\n",
              "        text-align: right;\n",
              "    }\n",
              "</style>\n",
              "<table border=\"1\" class=\"dataframe\">\n",
              "  <thead>\n",
              "    <tr style=\"text-align: right;\">\n",
              "      <th></th>\n",
              "      <th>Emp ID</th>\n",
              "      <th>satisfaction_level</th>\n",
              "      <th>last_evaluation</th>\n",
              "      <th>number_project</th>\n",
              "      <th>average_montly_hours</th>\n",
              "      <th>time_spend_company</th>\n",
              "      <th>Work_accident</th>\n",
              "      <th>promotion_last_5years</th>\n",
              "      <th>salary</th>\n",
              "      <th>dept</th>\n",
              "      <th>Existing or Left</th>\n",
              "    </tr>\n",
              "  </thead>\n",
              "  <tbody>\n",
              "    <tr>\n",
              "      <th>0</th>\n",
              "      <td>14211</td>\n",
              "      <td>0.50</td>\n",
              "      <td>0.73</td>\n",
              "      <td>4</td>\n",
              "      <td>180</td>\n",
              "      <td>3</td>\n",
              "      <td>0</td>\n",
              "      <td>0</td>\n",
              "      <td>low</td>\n",
              "      <td>IT</td>\n",
              "      <td>1</td>\n",
              "    </tr>\n",
              "    <tr>\n",
              "      <th>1</th>\n",
              "      <td>14210</td>\n",
              "      <td>0.33</td>\n",
              "      <td>0.65</td>\n",
              "      <td>3</td>\n",
              "      <td>172</td>\n",
              "      <td>10</td>\n",
              "      <td>0</td>\n",
              "      <td>1</td>\n",
              "      <td>high</td>\n",
              "      <td>marketing</td>\n",
              "      <td>1</td>\n",
              "    </tr>\n",
              "    <tr>\n",
              "      <th>2</th>\n",
              "      <td>14209</td>\n",
              "      <td>0.85</td>\n",
              "      <td>0.54</td>\n",
              "      <td>3</td>\n",
              "      <td>185</td>\n",
              "      <td>10</td>\n",
              "      <td>0</td>\n",
              "      <td>1</td>\n",
              "      <td>high</td>\n",
              "      <td>management</td>\n",
              "      <td>1</td>\n",
              "    </tr>\n",
              "    <tr>\n",
              "      <th>3</th>\n",
              "      <td>14208</td>\n",
              "      <td>0.74</td>\n",
              "      <td>0.95</td>\n",
              "      <td>5</td>\n",
              "      <td>266</td>\n",
              "      <td>10</td>\n",
              "      <td>0</td>\n",
              "      <td>1</td>\n",
              "      <td>high</td>\n",
              "      <td>management</td>\n",
              "      <td>1</td>\n",
              "    </tr>\n",
              "    <tr>\n",
              "      <th>4</th>\n",
              "      <td>14207</td>\n",
              "      <td>0.90</td>\n",
              "      <td>0.55</td>\n",
              "      <td>3</td>\n",
              "      <td>259</td>\n",
              "      <td>10</td>\n",
              "      <td>1</td>\n",
              "      <td>1</td>\n",
              "      <td>high</td>\n",
              "      <td>management</td>\n",
              "      <td>1</td>\n",
              "    </tr>\n",
              "  </tbody>\n",
              "</table>\n",
              "</div>"
            ],
            "text/plain": [
              "   Emp ID  satisfaction_level  ...        dept  Existing or Left\n",
              "0   14211                0.50  ...          IT                 1\n",
              "1   14210                0.33  ...   marketing                 1\n",
              "2   14209                0.85  ...  management                 1\n",
              "3   14208                0.74  ...  management                 1\n",
              "4   14207                0.90  ...  management                 1\n",
              "\n",
              "[5 rows x 11 columns]"
            ]
          },
          "metadata": {
            "tags": []
          },
          "execution_count": 287
        }
      ]
    },
    {
      "cell_type": "code",
      "metadata": {
        "id": "-n3p_vT3obgK",
        "colab_type": "code",
        "colab": {}
      },
      "source": [
        "\n",
        "df3.to_csv('Future_leftX.csv')"
      ],
      "execution_count": 0,
      "outputs": []
    },
    {
      "cell_type": "code",
      "metadata": {
        "id": "Bt3EO1E0leGm",
        "colab_type": "code",
        "colab": {}
      },
      "source": [
        ""
      ],
      "execution_count": 0,
      "outputs": []
    }
  ]
}